{
 "cells": [
  {
   "cell_type": "markdown",
   "metadata": {},
   "source": [
    "# How Representative is an Abortion Discussion on Twitter?\n",
    "\n",
    "- [Eduardo Graells-Garrido](https://twitter.com/carnby), Data Science Institute, Universidad del Desarrollo\n",
    "- [Ricardo Baeza-Yates](http://baeza.cl/), NTENT & Northeastern University\n",
    "- [Mounia Lalmas](https://mounia-lalmas.blog/), Spotify\n",
    "\n",
    "This notebook contains part of the analysis made in our [ACM Web Science'19](https://websci19.webscience.org/) poster. Particularly:\n",
    "\n",
    "1. It describes the data released with the poster:\n",
    "2. It shows how to fit the models of stance and demographic factors."
   ]
  },
  {
   "cell_type": "markdown",
   "metadata": {},
   "source": [
    "### Preamble"
   ]
  },
  {
   "cell_type": "code",
   "execution_count": 1,
   "metadata": {},
   "outputs": [],
   "source": [
    "import pandas as pd\n",
    "import numpy as np\n",
    "import json\n",
    "import pyreadstat\n",
    "from statsmodels.formula.api import logit, glm\n",
    "from statsmodels.api import families\n",
    "from scipy.sparse import load_npz\n",
    "\n",
    "import matplotlib.pyplot as plt\n",
    "import seaborn as sns\n",
    "sns.set(context='notebook', style='ticks', font='Fira Sans', palette='viridis', font_scale=0.9,\n",
    "       rc={'mathtext.default': 'regular'})\n",
    "%matplotlib inline\n",
    "%config InlineBackend.figure_format = 'retina'"
   ]
  },
  {
   "cell_type": "markdown",
   "metadata": {},
   "source": [
    "### Data Set"
   ]
  },
  {
   "cell_type": "markdown",
   "metadata": {},
   "source": [
    "#### 1. User Features\n",
    "\n",
    "This file contains the following features:\n",
    "\n",
    "- `index`: the user ID.\n",
    "- `age_group`: the reported/inferred age group (see the `source` column).\n",
    "- `gender`: the reported/inferred binary gender (see the `gender_source` column).\n",
    "- `defense`, `opposition`: the user-stance weight given by the SeededLDA model.\n",
    "- `stance`: the inferred user stance after calibrating the SeededLDA weights.\n",
    "\n",
    "SeededLDA can be found in [this repository](https://github.com/vi3k6i5/GuidedLDA). It's a partial implementation of the GuidedLDA model, a semi-supervised variation of LDA."
   ]
  },
  {
   "cell_type": "code",
   "execution_count": 2,
   "metadata": {},
   "outputs": [
    {
     "data": {
      "text/html": [
       "<div>\n",
       "<style scoped>\n",
       "    .dataframe tbody tr th:only-of-type {\n",
       "        vertical-align: middle;\n",
       "    }\n",
       "\n",
       "    .dataframe tbody tr th {\n",
       "        vertical-align: top;\n",
       "    }\n",
       "\n",
       "    .dataframe thead th {\n",
       "        text-align: right;\n",
       "    }\n",
       "</style>\n",
       "<table border=\"1\" class=\"dataframe\">\n",
       "  <thead>\n",
       "    <tr style=\"text-align: right;\">\n",
       "      <th></th>\n",
       "      <th>age_group</th>\n",
       "      <th>defense</th>\n",
       "      <th>followers</th>\n",
       "      <th>friends</th>\n",
       "      <th>gender</th>\n",
       "      <th>gender_source</th>\n",
       "      <th>opposition</th>\n",
       "      <th>source</th>\n",
       "      <th>stance</th>\n",
       "    </tr>\n",
       "    <tr>\n",
       "      <th>index</th>\n",
       "      <th></th>\n",
       "      <th></th>\n",
       "      <th></th>\n",
       "      <th></th>\n",
       "      <th></th>\n",
       "      <th></th>\n",
       "      <th></th>\n",
       "      <th></th>\n",
       "      <th></th>\n",
       "    </tr>\n",
       "  </thead>\n",
       "  <tbody>\n",
       "    <tr>\n",
       "      <th>117955785</th>\n",
       "      <td>18-24</td>\n",
       "      <td>0.999232</td>\n",
       "      <td>220</td>\n",
       "      <td>396</td>\n",
       "      <td>male</td>\n",
       "      <td>self-reported</td>\n",
       "      <td>0.000768</td>\n",
       "      <td>linearsvc</td>\n",
       "      <td>defense</td>\n",
       "    </tr>\n",
       "    <tr>\n",
       "      <th>26415239</th>\n",
       "      <td>18-24</td>\n",
       "      <td>0.999093</td>\n",
       "      <td>310</td>\n",
       "      <td>486</td>\n",
       "      <td>male</td>\n",
       "      <td>self-reported</td>\n",
       "      <td>0.000907</td>\n",
       "      <td>linearsvc</td>\n",
       "      <td>defense</td>\n",
       "    </tr>\n",
       "    <tr>\n",
       "      <th>69362892</th>\n",
       "      <td>25-34</td>\n",
       "      <td>0.171039</td>\n",
       "      <td>3055</td>\n",
       "      <td>4993</td>\n",
       "      <td>male</td>\n",
       "      <td>self-reported</td>\n",
       "      <td>0.828961</td>\n",
       "      <td>linearsvc</td>\n",
       "      <td>opposition</td>\n",
       "    </tr>\n",
       "    <tr>\n",
       "      <th>38862367</th>\n",
       "      <td>25-34</td>\n",
       "      <td>0.999643</td>\n",
       "      <td>539</td>\n",
       "      <td>1213</td>\n",
       "      <td>female</td>\n",
       "      <td>self-reported</td>\n",
       "      <td>0.000357</td>\n",
       "      <td>linearsvc</td>\n",
       "      <td>defense</td>\n",
       "    </tr>\n",
       "    <tr>\n",
       "      <th>494112233</th>\n",
       "      <td>35-44</td>\n",
       "      <td>0.000083</td>\n",
       "      <td>143</td>\n",
       "      <td>218</td>\n",
       "      <td>female</td>\n",
       "      <td>self-reported</td>\n",
       "      <td>0.999917</td>\n",
       "      <td>linearsvc</td>\n",
       "      <td>opposition</td>\n",
       "    </tr>\n",
       "  </tbody>\n",
       "</table>\n",
       "</div>"
      ],
      "text/plain": [
       "          age_group   defense  followers  friends  gender  gender_source  \\\n",
       "index                                                                      \n",
       "117955785     18-24  0.999232        220      396    male  self-reported   \n",
       "26415239      18-24  0.999093        310      486    male  self-reported   \n",
       "69362892      25-34  0.171039       3055     4993    male  self-reported   \n",
       "38862367      25-34  0.999643        539     1213  female  self-reported   \n",
       "494112233     35-44  0.000083        143      218  female  self-reported   \n",
       "\n",
       "           opposition     source      stance  \n",
       "index                                         \n",
       "117955785    0.000768  linearsvc     defense  \n",
       "26415239     0.000907  linearsvc     defense  \n",
       "69362892     0.828961  linearsvc  opposition  \n",
       "38862367     0.000357  linearsvc     defense  \n",
       "494112233    0.999917  linearsvc  opposition  "
      ]
     },
     "execution_count": 2,
     "metadata": {},
     "output_type": "execute_result"
    }
   ],
   "source": [
    "user_features = pd.read_json('user_features.json.gz', lines=True).set_index('index')\n",
    "user_features.sample(5)"
   ]
  },
  {
   "cell_type": "markdown",
   "metadata": {},
   "source": [
    "#### 2. User-Term Matrix and Vocabulary\n",
    "\n",
    "This is a sparse matrix with the vocabulary associated to each user. \n",
    "\n",
    "- Rows are users. The corresponding ID for each row is on the `user_matrix_ids.json` file.\n",
    "- Columns are terms from the vocabulary. The corresponding term for each column is on the `vocabulary_ids.json` file.\n",
    "\n",
    "This matrix was used to fit the SeededLDA model, and to infer gender (see the paper for details)."
   ]
  },
  {
   "cell_type": "code",
   "execution_count": 3,
   "metadata": {},
   "outputs": [
    {
     "data": {
      "text/plain": [
       "\"<104938x20188 sparse matrix of type '<class 'numpy.int64'>'\\n\\twith 8179507 stored elements in Compressed Sparse Row format>\""
      ]
     },
     "execution_count": 3,
     "metadata": {},
     "output_type": "execute_result"
    }
   ],
   "source": [
    "user_matrix = load_npz('user_matrix.csr.npz')\n",
    "repr(user_matrix)"
   ]
  },
  {
   "cell_type": "code",
   "execution_count": 4,
   "metadata": {},
   "outputs": [],
   "source": [
    "with open('user_matrix_ids.json') as f:\n",
    "    user_matrix_ids = json.load(f)"
   ]
  },
  {
   "cell_type": "code",
   "execution_count": 5,
   "metadata": {},
   "outputs": [
    {
     "data": {
      "text/plain": [
       "104938"
      ]
     },
     "execution_count": 5,
     "metadata": {},
     "output_type": "execute_result"
    }
   ],
   "source": [
    "len(user_matrix_ids)"
   ]
  },
  {
   "cell_type": "code",
   "execution_count": 6,
   "metadata": {},
   "outputs": [
    {
     "data": {
      "text/plain": [
       "[818587115277590529, 128223099, 66496659, 181798099, 752661653364281344]"
      ]
     },
     "execution_count": 6,
     "metadata": {},
     "output_type": "execute_result"
    }
   ],
   "source": [
    "user_matrix_ids[0:5]"
   ]
  },
  {
   "cell_type": "code",
   "execution_count": 7,
   "metadata": {},
   "outputs": [],
   "source": [
    "with open('vocabulary_ids.json') as f:\n",
    "    vocabulary_ids = json.load(f)"
   ]
  },
  {
   "cell_type": "code",
   "execution_count": 8,
   "metadata": {},
   "outputs": [
    {
     "data": {
      "text/plain": [
       "20188"
      ]
     },
     "execution_count": 8,
     "metadata": {},
     "output_type": "execute_result"
    }
   ],
   "source": [
    "len(vocabulary_ids)"
   ]
  },
  {
   "cell_type": "code",
   "execution_count": 9,
   "metadata": {},
   "outputs": [
    {
     "data": {
      "text/plain": [
       "[('\"‘', 0),\n",
       " ('##dcsalvaachile', 1),\n",
       " ('#1', 2),\n",
       " ('#10deabril', 3),\n",
       " ('#10dejunio', 4),\n",
       " ('#10demarzo', 5),\n",
       " ('#10demayo', 6),\n",
       " ('#11deseptiembre', 7),\n",
       " ('#12diaschv', 8),\n",
       " ('#21m', 9)]"
      ]
     },
     "execution_count": 9,
     "metadata": {},
     "output_type": "execute_result"
    }
   ],
   "source": [
    "list(vocabulary_ids.items())[0:10]"
   ]
  },
  {
   "cell_type": "markdown",
   "metadata": {},
   "source": [
    "#### 3. Vocabulary\n",
    "\n",
    "This is a dictionary with term frequencies. This is not used directly in the poster, but it is made available for exploratory purposes."
   ]
  },
  {
   "cell_type": "code",
   "execution_count": 10,
   "metadata": {},
   "outputs": [],
   "source": [
    "with open('vocabulary_frequency.json') as f:\n",
    "    vocabulary = json.load(f)"
   ]
  },
  {
   "cell_type": "code",
   "execution_count": 11,
   "metadata": {},
   "outputs": [
    {
     "data": {
      "text/plain": [
       "20188"
      ]
     },
     "execution_count": 11,
     "metadata": {},
     "output_type": "execute_result"
    }
   ],
   "source": [
    "len(vocabulary)"
   ]
  },
  {
   "cell_type": "code",
   "execution_count": 12,
   "metadata": {},
   "outputs": [
    {
     "name": "stdout",
     "output_type": "stream",
     "text": [
      "[('aborto', 893176), ('ley', 163673), ('chile', 151912), ('#aborto3causales', 140150), ('causales', 131875), ('mujeres', 130773), ('proyecto', 119002), ('vida', 89428), ('mujer', 81404), ('ser', 65276), ('hoy', 61300), ('despenalizacion', 60223), ('tres', 56837), ('#aborto', 54545), ('provida', 53674), ('ahora', 48989), ('violacion', 45714), ('abortar', 42353), ('dc', 40351), ('@mileschile', 36375), ('senado', 34655), ('pinera', 34633), ('derechos', 34236), ('ninos', 33846), ('udi', 33129), ('gobierno', 33084), ('favor', 32812), ('todos', 32767), ('pais', 31698), ('anos', 31385)]\n"
     ]
    }
   ],
   "source": [
    "print(sorted(vocabulary.items(), key=lambda x: x[1], reverse=True)[0:30])"
   ]
  },
  {
   "cell_type": "markdown",
   "metadata": {},
   "source": [
    "#### 4. Term-Stance Association\n",
    "\n",
    "This is the term-stace values estimated with the SeededLDA model as described on the poster. This is not used directly in the poster, but it is made available for exploratory purposes."
   ]
  },
  {
   "cell_type": "code",
   "execution_count": 13,
   "metadata": {},
   "outputs": [
    {
     "data": {
      "text/html": [
       "<div>\n",
       "<style scoped>\n",
       "    .dataframe tbody tr th:only-of-type {\n",
       "        vertical-align: middle;\n",
       "    }\n",
       "\n",
       "    .dataframe tbody tr th {\n",
       "        vertical-align: top;\n",
       "    }\n",
       "\n",
       "    .dataframe thead th {\n",
       "        text-align: right;\n",
       "    }\n",
       "</style>\n",
       "<table border=\"1\" class=\"dataframe\">\n",
       "  <thead>\n",
       "    <tr style=\"text-align: right;\">\n",
       "      <th></th>\n",
       "      <th>defense</th>\n",
       "      <th>opposition</th>\n",
       "    </tr>\n",
       "    <tr>\n",
       "      <th>index</th>\n",
       "      <th></th>\n",
       "      <th></th>\n",
       "    </tr>\n",
       "  </thead>\n",
       "  <tbody>\n",
       "    <tr>\n",
       "      <th>siniestro</th>\n",
       "      <td>6.295800e-06</td>\n",
       "      <td>3.818880e-05</td>\n",
       "    </tr>\n",
       "    <tr>\n",
       "      <th>carretas</th>\n",
       "      <td>1.100000e-09</td>\n",
       "      <td>2.633080e-05</td>\n",
       "    </tr>\n",
       "    <tr>\n",
       "      <th>recibiera</th>\n",
       "      <td>1.100000e-09</td>\n",
       "      <td>1.447280e-05</td>\n",
       "    </tr>\n",
       "    <tr>\n",
       "      <th>@pamelagallegosm</th>\n",
       "      <td>4.749700e-06</td>\n",
       "      <td>3.619700e-06</td>\n",
       "    </tr>\n",
       "    <tr>\n",
       "      <th>who.int</th>\n",
       "      <td>1.126520e-05</td>\n",
       "      <td>2.000000e-09</td>\n",
       "    </tr>\n",
       "  </tbody>\n",
       "</table>\n",
       "</div>"
      ],
      "text/plain": [
       "                       defense    opposition\n",
       "index                                       \n",
       "siniestro         6.295800e-06  3.818880e-05\n",
       "carretas          1.100000e-09  2.633080e-05\n",
       "recibiera         1.100000e-09  1.447280e-05\n",
       "@pamelagallegosm  4.749700e-06  3.619700e-06\n",
       "who.int           1.126520e-05  2.000000e-09"
      ]
     },
     "execution_count": 13,
     "metadata": {},
     "output_type": "execute_result"
    }
   ],
   "source": [
    "term_topic = pd.read_json('lda_term_topic_matrix.json.gz', lines=True).set_index('index')\n",
    "term_topic.sample(5)"
   ]
  },
  {
   "cell_type": "code",
   "execution_count": 14,
   "metadata": {},
   "outputs": [
    {
     "data": {
      "text/plain": [
       "Index(['aborto', '#aborto3causales', 'causales', 'mujeres', 'ley', 'proyecto',\n",
       "       'chile', 'mujer', 'despenalizacion', 'tres', 'provida', 'hoy', 'ser',\n",
       "       'ahora', 'abortar', 'violacion', '@mileschile', 'udi', 'vida',\n",
       "       'derechos', 'senado', 'pinera', 'derecha', '#aborto', 'anos',\n",
       "       'terapeutico', 'aprueba', 'dc', 'embarazo', 'favor', '#apoyo3causales',\n",
       "       'pais', 'causal', 'derecho', 'tc', 'debate', '#3causales', 'dia',\n",
       "       'matrimonio', 'legal', 'salud', 'todos', 'uc', 'decidir', 'igualitario',\n",
       "       'gobierno', 'discusion', 'abortos', 'aborto libre', 'aprobacion'],\n",
       "      dtype='object', name='index')"
      ]
     },
     "execution_count": 14,
     "metadata": {},
     "output_type": "execute_result"
    }
   ],
   "source": [
    "term_topic.sort_values('defense', ascending=False).head(50).index"
   ]
  },
  {
   "cell_type": "code",
   "execution_count": 15,
   "metadata": {},
   "outputs": [
    {
     "data": {
      "text/plain": [
       "Index(['aborto', 'chile', 'ley', 'vida', '#aborto', 'ser', 'mujer', 'proyecto',\n",
       "       'ninos', 'muerte', 'hoy', 'dc', 'no al aborto', '@carolinagoic',\n",
       "       '#noalaborto', 'gobierno', 'todos', 'mujeres', 'provida',\n",
       "       'aborto libre', 'pl', 'causales', 'salud', '@joseantoniokast', 'madre',\n",
       "       'bachelet', 'ahora', 'violacion', '@mbachelet', 'quiere', 'voto',\n",
       "       'a favor del aborto', 'hijo', 'negocio', 'pro aborto', 'favor',\n",
       "       '@soledadalvear', 'asesinato', 'matar', 'derecho', 'pais', '#sialavida',\n",
       "       '#nolosdejaremossolos', 'crimen', 'humano', 'eldemocrata.cl', 'nino',\n",
       "       'bien', 'nacer', 'siempre'],\n",
       "      dtype='object', name='index')"
      ]
     },
     "execution_count": 15,
     "metadata": {},
     "output_type": "execute_result"
    }
   ],
   "source": [
    "term_topic.sort_values('opposition', ascending=False).head(50).index"
   ]
  },
  {
   "cell_type": "markdown",
   "metadata": {},
   "source": [
    "#### 5. Population Weights\n",
    "\n",
    "This is the total population in Chile according to the Census 2017. It is already aggregated for our purposes."
   ]
  },
  {
   "cell_type": "code",
   "execution_count": 16,
   "metadata": {},
   "outputs": [
    {
     "data": {
      "text/html": [
       "<div>\n",
       "<style scoped>\n",
       "    .dataframe tbody tr th:only-of-type {\n",
       "        vertical-align: middle;\n",
       "    }\n",
       "\n",
       "    .dataframe tbody tr th {\n",
       "        vertical-align: top;\n",
       "    }\n",
       "\n",
       "    .dataframe thead th {\n",
       "        text-align: right;\n",
       "    }\n",
       "</style>\n",
       "<table border=\"1\" class=\"dataframe\">\n",
       "  <thead>\n",
       "    <tr style=\"text-align: right;\">\n",
       "      <th></th>\n",
       "      <th>age_group</th>\n",
       "      <th>female</th>\n",
       "      <th>male</th>\n",
       "      <th>n</th>\n",
       "      <th>percent</th>\n",
       "      <th>source</th>\n",
       "    </tr>\n",
       "  </thead>\n",
       "  <tbody>\n",
       "    <tr>\n",
       "      <th>0</th>\n",
       "      <td>&lt; 18</td>\n",
       "      <td>586351</td>\n",
       "      <td>612585</td>\n",
       "      <td>1198936</td>\n",
       "      <td>8.296176</td>\n",
       "      <td>Census</td>\n",
       "    </tr>\n",
       "    <tr>\n",
       "      <th>1</th>\n",
       "      <td>18-24</td>\n",
       "      <td>1080223</td>\n",
       "      <td>1110332</td>\n",
       "      <td>2190555</td>\n",
       "      <td>15.157797</td>\n",
       "      <td>Census</td>\n",
       "    </tr>\n",
       "    <tr>\n",
       "      <th>2</th>\n",
       "      <td>25-34</td>\n",
       "      <td>1368036</td>\n",
       "      <td>1370769</td>\n",
       "      <td>2738805</td>\n",
       "      <td>18.951476</td>\n",
       "      <td>Census</td>\n",
       "    </tr>\n",
       "    <tr>\n",
       "      <th>3</th>\n",
       "      <td>35-44</td>\n",
       "      <td>1213329</td>\n",
       "      <td>1167631</td>\n",
       "      <td>2380960</td>\n",
       "      <td>16.475327</td>\n",
       "      <td>Census</td>\n",
       "    </tr>\n",
       "    <tr>\n",
       "      <th>4</th>\n",
       "      <td>45-54</td>\n",
       "      <td>1207996</td>\n",
       "      <td>1123688</td>\n",
       "      <td>2331684</td>\n",
       "      <td>16.134356</td>\n",
       "      <td>Census</td>\n",
       "    </tr>\n",
       "    <tr>\n",
       "      <th>5</th>\n",
       "      <td>&gt;= 55</td>\n",
       "      <td>1973503</td>\n",
       "      <td>1637228</td>\n",
       "      <td>3610731</td>\n",
       "      <td>24.984869</td>\n",
       "      <td>Census</td>\n",
       "    </tr>\n",
       "  </tbody>\n",
       "</table>\n",
       "</div>"
      ],
      "text/plain": [
       "  age_group   female     male        n    percent  source\n",
       "0      < 18   586351   612585  1198936   8.296176  Census\n",
       "1     18-24  1080223  1110332  2190555  15.157797  Census\n",
       "2     25-34  1368036  1370769  2738805  18.951476  Census\n",
       "3     35-44  1213329  1167631  2380960  16.475327  Census\n",
       "4     45-54  1207996  1123688  2331684  16.134356  Census\n",
       "5     >= 55  1973503  1637228  3610731  24.984869  Census"
      ]
     },
     "execution_count": 16,
     "metadata": {},
     "output_type": "execute_result"
    }
   ],
   "source": [
    "census = pd.read_csv('census_2017_population.csv', index_col=0)\n",
    "census"
   ]
  },
  {
   "cell_type": "code",
   "execution_count": 17,
   "metadata": {},
   "outputs": [],
   "source": [
    "census['female_weight'] = census['female'] / census['n'].sum()\n",
    "census['male_weight'] = census['male'] / census['n'].sum()"
   ]
  },
  {
   "cell_type": "code",
   "execution_count": 18,
   "metadata": {},
   "outputs": [
    {
     "data": {
      "text/html": [
       "<div>\n",
       "<style scoped>\n",
       "    .dataframe tbody tr th:only-of-type {\n",
       "        vertical-align: middle;\n",
       "    }\n",
       "\n",
       "    .dataframe tbody tr th {\n",
       "        vertical-align: top;\n",
       "    }\n",
       "\n",
       "    .dataframe thead th {\n",
       "        text-align: right;\n",
       "    }\n",
       "</style>\n",
       "<table border=\"1\" class=\"dataframe\">\n",
       "  <thead>\n",
       "    <tr style=\"text-align: right;\">\n",
       "      <th></th>\n",
       "      <th>age_group</th>\n",
       "      <th>female</th>\n",
       "      <th>male</th>\n",
       "    </tr>\n",
       "  </thead>\n",
       "  <tbody>\n",
       "    <tr>\n",
       "      <th>0</th>\n",
       "      <td>&lt; 18</td>\n",
       "      <td>0.040573</td>\n",
       "      <td>0.042389</td>\n",
       "    </tr>\n",
       "    <tr>\n",
       "      <th>1</th>\n",
       "      <td>18-24</td>\n",
       "      <td>0.074747</td>\n",
       "      <td>0.076831</td>\n",
       "    </tr>\n",
       "    <tr>\n",
       "      <th>2</th>\n",
       "      <td>25-34</td>\n",
       "      <td>0.094663</td>\n",
       "      <td>0.094852</td>\n",
       "    </tr>\n",
       "    <tr>\n",
       "      <th>3</th>\n",
       "      <td>35-44</td>\n",
       "      <td>0.083958</td>\n",
       "      <td>0.080796</td>\n",
       "    </tr>\n",
       "    <tr>\n",
       "      <th>4</th>\n",
       "      <td>45-54</td>\n",
       "      <td>0.083589</td>\n",
       "      <td>0.077755</td>\n",
       "    </tr>\n",
       "    <tr>\n",
       "      <th>5</th>\n",
       "      <td>&gt;= 55</td>\n",
       "      <td>0.136559</td>\n",
       "      <td>0.113290</td>\n",
       "    </tr>\n",
       "  </tbody>\n",
       "</table>\n",
       "</div>"
      ],
      "text/plain": [
       "  age_group    female      male\n",
       "0      < 18  0.040573  0.042389\n",
       "1     18-24  0.074747  0.076831\n",
       "2     25-34  0.094663  0.094852\n",
       "3     35-44  0.083958  0.080796\n",
       "4     45-54  0.083589  0.077755\n",
       "5     >= 55  0.136559  0.113290"
      ]
     },
     "execution_count": 18,
     "metadata": {},
     "output_type": "execute_result"
    }
   ],
   "source": [
    "census_weights = census[['age_group', 'female_weight', 'male_weight']]\n",
    "census_weights.columns = ['age_group', 'female', 'male']\n",
    "census_weights"
   ]
  },
  {
   "cell_type": "code",
   "execution_count": 19,
   "metadata": {},
   "outputs": [
    {
     "data": {
      "text/html": [
       "<div>\n",
       "<style scoped>\n",
       "    .dataframe tbody tr th:only-of-type {\n",
       "        vertical-align: middle;\n",
       "    }\n",
       "\n",
       "    .dataframe tbody tr th {\n",
       "        vertical-align: top;\n",
       "    }\n",
       "\n",
       "    .dataframe thead th {\n",
       "        text-align: right;\n",
       "    }\n",
       "</style>\n",
       "<table border=\"1\" class=\"dataframe\">\n",
       "  <thead>\n",
       "    <tr style=\"text-align: right;\">\n",
       "      <th></th>\n",
       "      <th>age_group</th>\n",
       "      <th>gender</th>\n",
       "      <th>weight</th>\n",
       "    </tr>\n",
       "  </thead>\n",
       "  <tbody>\n",
       "    <tr>\n",
       "      <th>0</th>\n",
       "      <td>&lt; 18</td>\n",
       "      <td>female</td>\n",
       "      <td>0.040573</td>\n",
       "    </tr>\n",
       "    <tr>\n",
       "      <th>1</th>\n",
       "      <td>18-24</td>\n",
       "      <td>female</td>\n",
       "      <td>0.074747</td>\n",
       "    </tr>\n",
       "    <tr>\n",
       "      <th>2</th>\n",
       "      <td>25-34</td>\n",
       "      <td>female</td>\n",
       "      <td>0.094663</td>\n",
       "    </tr>\n",
       "    <tr>\n",
       "      <th>3</th>\n",
       "      <td>35-44</td>\n",
       "      <td>female</td>\n",
       "      <td>0.083958</td>\n",
       "    </tr>\n",
       "    <tr>\n",
       "      <th>4</th>\n",
       "      <td>45-54</td>\n",
       "      <td>female</td>\n",
       "      <td>0.083589</td>\n",
       "    </tr>\n",
       "    <tr>\n",
       "      <th>5</th>\n",
       "      <td>&gt;= 55</td>\n",
       "      <td>female</td>\n",
       "      <td>0.136559</td>\n",
       "    </tr>\n",
       "    <tr>\n",
       "      <th>6</th>\n",
       "      <td>&lt; 18</td>\n",
       "      <td>male</td>\n",
       "      <td>0.042389</td>\n",
       "    </tr>\n",
       "    <tr>\n",
       "      <th>7</th>\n",
       "      <td>18-24</td>\n",
       "      <td>male</td>\n",
       "      <td>0.076831</td>\n",
       "    </tr>\n",
       "    <tr>\n",
       "      <th>8</th>\n",
       "      <td>25-34</td>\n",
       "      <td>male</td>\n",
       "      <td>0.094852</td>\n",
       "    </tr>\n",
       "    <tr>\n",
       "      <th>9</th>\n",
       "      <td>35-44</td>\n",
       "      <td>male</td>\n",
       "      <td>0.080796</td>\n",
       "    </tr>\n",
       "    <tr>\n",
       "      <th>10</th>\n",
       "      <td>45-54</td>\n",
       "      <td>male</td>\n",
       "      <td>0.077755</td>\n",
       "    </tr>\n",
       "    <tr>\n",
       "      <th>11</th>\n",
       "      <td>&gt;= 55</td>\n",
       "      <td>male</td>\n",
       "      <td>0.113290</td>\n",
       "    </tr>\n",
       "  </tbody>\n",
       "</table>\n",
       "</div>"
      ],
      "text/plain": [
       "   age_group  gender    weight\n",
       "0       < 18  female  0.040573\n",
       "1      18-24  female  0.074747\n",
       "2      25-34  female  0.094663\n",
       "3      35-44  female  0.083958\n",
       "4      45-54  female  0.083589\n",
       "5      >= 55  female  0.136559\n",
       "6       < 18    male  0.042389\n",
       "7      18-24    male  0.076831\n",
       "8      25-34    male  0.094852\n",
       "9      35-44    male  0.080796\n",
       "10     45-54    male  0.077755\n",
       "11     >= 55    male  0.113290"
      ]
     },
     "execution_count": 19,
     "metadata": {},
     "output_type": "execute_result"
    }
   ],
   "source": [
    "census_weights = (pd.melt(census_weights, id_vars=['age_group'], value_vars=['female', 'male'])\n",
    "                  .rename(columns={'variable': 'gender', 'value': 'weight'}))\n",
    "census_weights"
   ]
  },
  {
   "cell_type": "code",
   "execution_count": 20,
   "metadata": {},
   "outputs": [
    {
     "data": {
      "text/html": [
       "<div>\n",
       "<style scoped>\n",
       "    .dataframe tbody tr th:only-of-type {\n",
       "        vertical-align: middle;\n",
       "    }\n",
       "\n",
       "    .dataframe tbody tr th {\n",
       "        vertical-align: top;\n",
       "    }\n",
       "\n",
       "    .dataframe thead th {\n",
       "        text-align: right;\n",
       "    }\n",
       "</style>\n",
       "<table border=\"1\" class=\"dataframe\">\n",
       "  <thead>\n",
       "    <tr style=\"text-align: right;\">\n",
       "      <th></th>\n",
       "      <th>followers</th>\n",
       "      <th>friends</th>\n",
       "      <th>stance</th>\n",
       "      <th>age_group</th>\n",
       "      <th>gender</th>\n",
       "      <th>in_defense</th>\n",
       "      <th>weight</th>\n",
       "    </tr>\n",
       "  </thead>\n",
       "  <tbody>\n",
       "    <tr>\n",
       "      <th>33080</th>\n",
       "      <td>803</td>\n",
       "      <td>742</td>\n",
       "      <td>defense</td>\n",
       "      <td>18-24</td>\n",
       "      <td>male</td>\n",
       "      <td>1</td>\n",
       "      <td>0.962417</td>\n",
       "    </tr>\n",
       "    <tr>\n",
       "      <th>6207</th>\n",
       "      <td>117</td>\n",
       "      <td>66</td>\n",
       "      <td>opposition</td>\n",
       "      <td>18-24</td>\n",
       "      <td>female</td>\n",
       "      <td>0</td>\n",
       "      <td>0.936319</td>\n",
       "    </tr>\n",
       "    <tr>\n",
       "      <th>50845</th>\n",
       "      <td>271</td>\n",
       "      <td>283</td>\n",
       "      <td>defense</td>\n",
       "      <td>18-24</td>\n",
       "      <td>male</td>\n",
       "      <td>1</td>\n",
       "      <td>0.962417</td>\n",
       "    </tr>\n",
       "    <tr>\n",
       "      <th>16228</th>\n",
       "      <td>202</td>\n",
       "      <td>817</td>\n",
       "      <td>defense</td>\n",
       "      <td>18-24</td>\n",
       "      <td>female</td>\n",
       "      <td>1</td>\n",
       "      <td>0.936319</td>\n",
       "    </tr>\n",
       "    <tr>\n",
       "      <th>79962</th>\n",
       "      <td>110</td>\n",
       "      <td>162</td>\n",
       "      <td>defense</td>\n",
       "      <td>25-34</td>\n",
       "      <td>female</td>\n",
       "      <td>1</td>\n",
       "      <td>1.185791</td>\n",
       "    </tr>\n",
       "    <tr>\n",
       "      <th>11371</th>\n",
       "      <td>515</td>\n",
       "      <td>396</td>\n",
       "      <td>defense</td>\n",
       "      <td>18-24</td>\n",
       "      <td>female</td>\n",
       "      <td>1</td>\n",
       "      <td>0.936319</td>\n",
       "    </tr>\n",
       "    <tr>\n",
       "      <th>33664</th>\n",
       "      <td>8544</td>\n",
       "      <td>4404</td>\n",
       "      <td>defense</td>\n",
       "      <td>18-24</td>\n",
       "      <td>male</td>\n",
       "      <td>1</td>\n",
       "      <td>0.962417</td>\n",
       "    </tr>\n",
       "    <tr>\n",
       "      <th>68011</th>\n",
       "      <td>390</td>\n",
       "      <td>884</td>\n",
       "      <td>defense</td>\n",
       "      <td>25-34</td>\n",
       "      <td>male</td>\n",
       "      <td>1</td>\n",
       "      <td>1.188160</td>\n",
       "    </tr>\n",
       "    <tr>\n",
       "      <th>87574</th>\n",
       "      <td>111</td>\n",
       "      <td>166</td>\n",
       "      <td>defense</td>\n",
       "      <td>35-44</td>\n",
       "      <td>male</td>\n",
       "      <td>1</td>\n",
       "      <td>1.012083</td>\n",
       "    </tr>\n",
       "    <tr>\n",
       "      <th>84511</th>\n",
       "      <td>89</td>\n",
       "      <td>390</td>\n",
       "      <td>opposition</td>\n",
       "      <td>&gt;= 55</td>\n",
       "      <td>male</td>\n",
       "      <td>0</td>\n",
       "      <td>1.419122</td>\n",
       "    </tr>\n",
       "  </tbody>\n",
       "</table>\n",
       "</div>"
      ],
      "text/plain": [
       "       followers  friends      stance age_group  gender  in_defense    weight\n",
       "33080        803      742     defense     18-24    male           1  0.962417\n",
       "6207         117       66  opposition     18-24  female           0  0.936319\n",
       "50845        271      283     defense     18-24    male           1  0.962417\n",
       "16228        202      817     defense     18-24  female           1  0.936319\n",
       "79962        110      162     defense     25-34  female           1  1.185791\n",
       "11371        515      396     defense     18-24  female           1  0.936319\n",
       "33664       8544     4404     defense     18-24    male           1  0.962417\n",
       "68011        390      884     defense     25-34    male           1  1.188160\n",
       "87574        111      166     defense     35-44    male           1  1.012083\n",
       "84511         89      390  opposition     >= 55    male           0  1.419122"
      ]
     },
     "execution_count": 20,
     "metadata": {},
     "output_type": "execute_result"
    }
   ],
   "source": [
    "weighted_users = (user_features[user_features.gender != 'n/a']\n",
    "                  [['followers', 'friends', 'stance', 'age_group', 'gender']]\n",
    "                  .assign(in_defense=lambda x: (x['stance'] == 'defense').astype(np.int))\n",
    "                  .merge(census_weights, how='inner')\n",
    "                  .assign(weight=lambda x: x['weight'] / x['weight'].sum() * len(x))\n",
    ")\n",
    "weighted_users.sample(10)"
   ]
  },
  {
   "cell_type": "markdown",
   "metadata": {},
   "source": [
    "#### 6. CEP\n",
    "\n",
    "The Centro de Estudios Públicos (CEP) Survey contains nationally-representative opinions about several issues in Chile. This one in particular, from 2017, contains opinions about abortion."
   ]
  },
  {
   "cell_type": "code",
   "execution_count": 21,
   "metadata": {},
   "outputs": [],
   "source": [
    "cep, cep_meta = pyreadstat.read_sav('Encuesta CEP 79 Abr-May 2017 v1.sav', apply_value_formats=True)"
   ]
  },
  {
   "cell_type": "markdown",
   "metadata": {},
   "source": [
    "## Stance and Demographic Factors\n",
    "\n",
    "Having all these data sets, then we can train a model to see how demographic factors of age and binary gender are related to the stance with respect to abortion. We fit three logistic models:\n",
    "\n",
    "1. One with non-weighted Twitter profiles.\n",
    "2. One with census-weighted Twitter profiles.\n",
    "3. One with a \n",
    "\n",
    "#### Non-Weighted Model - Twitter"
   ]
  },
  {
   "cell_type": "code",
   "execution_count": 22,
   "metadata": {},
   "outputs": [
    {
     "name": "stdout",
     "output_type": "stream",
     "text": [
      "Optimization terminated successfully.\n",
      "         Current function value: 0.566044\n",
      "         Iterations 5\n"
     ]
    },
    {
     "data": {
      "text/html": [
       "<table class=\"simpletable\">\n",
       "<caption>Logit Regression Results</caption>\n",
       "<tr>\n",
       "  <th>Dep. Variable:</th>    <td>in_defense</td>    <th>  No. Observations:  </th>   <td> 93608</td>  \n",
       "</tr>\n",
       "<tr>\n",
       "  <th>Model:</th>               <td>Logit</td>      <th>  Df Residuals:      </th>   <td> 93601</td>  \n",
       "</tr>\n",
       "<tr>\n",
       "  <th>Method:</th>               <td>MLE</td>       <th>  Df Model:          </th>   <td>     6</td>  \n",
       "</tr>\n",
       "<tr>\n",
       "  <th>Date:</th>          <td>Fri, 28 Jun 2019</td> <th>  Pseudo R-squ.:     </th>  <td>0.007661</td> \n",
       "</tr>\n",
       "<tr>\n",
       "  <th>Time:</th>              <td>23:38:33</td>     <th>  Log-Likelihood:    </th>  <td> -52986.</td> \n",
       "</tr>\n",
       "<tr>\n",
       "  <th>converged:</th>           <td>True</td>       <th>  LL-Null:           </th>  <td> -53395.</td> \n",
       "</tr>\n",
       "<tr>\n",
       "  <th> </th>                      <td> </td>        <th>  LLR p-value:       </th> <td>1.856e-173</td>\n",
       "</tr>\n",
       "</table>\n",
       "<table class=\"simpletable\">\n",
       "<tr>\n",
       "                      <td></td>                         <th>coef</th>     <th>std err</th>      <th>z</th>      <th>P>|z|</th>  <th>[0.025</th>    <th>0.975]</th>  \n",
       "</tr>\n",
       "<tr>\n",
       "  <th>Intercept</th>                                 <td>    1.3336</td> <td>    0.013</td> <td>  101.531</td> <td> 0.000</td> <td>    1.308</td> <td>    1.359</td>\n",
       "</tr>\n",
       "<tr>\n",
       "  <th>C(age_group, Treatment('18-24'))[T.25-34]</th> <td>   -0.1763</td> <td>    0.020</td> <td>   -8.598</td> <td> 0.000</td> <td>   -0.216</td> <td>   -0.136</td>\n",
       "</tr>\n",
       "<tr>\n",
       "  <th>C(age_group, Treatment('18-24'))[T.35-44]</th> <td>   -0.2644</td> <td>    0.024</td> <td>  -10.913</td> <td> 0.000</td> <td>   -0.312</td> <td>   -0.217</td>\n",
       "</tr>\n",
       "<tr>\n",
       "  <th>C(age_group, Treatment('18-24'))[T.45-54]</th> <td>   -0.4115</td> <td>    0.029</td> <td>  -14.245</td> <td> 0.000</td> <td>   -0.468</td> <td>   -0.355</td>\n",
       "</tr>\n",
       "<tr>\n",
       "  <th>C(age_group, Treatment('18-24'))[T.< 18]</th>  <td>   -0.2294</td> <td>    0.039</td> <td>   -5.850</td> <td> 0.000</td> <td>   -0.306</td> <td>   -0.153</td>\n",
       "</tr>\n",
       "<tr>\n",
       "  <th>C(age_group, Treatment('18-24'))[T.>= 55]</th> <td>   -0.4948</td> <td>    0.044</td> <td>  -11.327</td> <td> 0.000</td> <td>   -0.580</td> <td>   -0.409</td>\n",
       "</tr>\n",
       "<tr>\n",
       "  <th>C(gender, Treatment('female'))[T.male]</th>    <td>   -0.2812</td> <td>    0.015</td> <td>  -18.235</td> <td> 0.000</td> <td>   -0.311</td> <td>   -0.251</td>\n",
       "</tr>\n",
       "</table>"
      ],
      "text/plain": [
       "<class 'statsmodels.iolib.summary.Summary'>\n",
       "\"\"\"\n",
       "                           Logit Regression Results                           \n",
       "==============================================================================\n",
       "Dep. Variable:             in_defense   No. Observations:                93608\n",
       "Model:                          Logit   Df Residuals:                    93601\n",
       "Method:                           MLE   Df Model:                            6\n",
       "Date:                Fri, 28 Jun 2019   Pseudo R-squ.:                0.007661\n",
       "Time:                        23:38:33   Log-Likelihood:                -52986.\n",
       "converged:                       True   LL-Null:                       -53395.\n",
       "                                        LLR p-value:                1.856e-173\n",
       "=============================================================================================================\n",
       "                                                coef    std err          z      P>|z|      [0.025      0.975]\n",
       "-------------------------------------------------------------------------------------------------------------\n",
       "Intercept                                     1.3336      0.013    101.531      0.000       1.308       1.359\n",
       "C(age_group, Treatment('18-24'))[T.25-34]    -0.1763      0.020     -8.598      0.000      -0.216      -0.136\n",
       "C(age_group, Treatment('18-24'))[T.35-44]    -0.2644      0.024    -10.913      0.000      -0.312      -0.217\n",
       "C(age_group, Treatment('18-24'))[T.45-54]    -0.4115      0.029    -14.245      0.000      -0.468      -0.355\n",
       "C(age_group, Treatment('18-24'))[T.< 18]     -0.2294      0.039     -5.850      0.000      -0.306      -0.153\n",
       "C(age_group, Treatment('18-24'))[T.>= 55]    -0.4948      0.044    -11.327      0.000      -0.580      -0.409\n",
       "C(gender, Treatment('female'))[T.male]       -0.2812      0.015    -18.235      0.000      -0.311      -0.251\n",
       "=============================================================================================================\n",
       "\"\"\""
      ]
     },
     "execution_count": 22,
     "metadata": {},
     "output_type": "execute_result"
    }
   ],
   "source": [
    "model_simple = logit('in_defense ~ C(age_group, Treatment(\\'18-24\\')) + C(gender, Treatment(\\'female\\'))', \n",
    "              data=weighted_users)\n",
    "results_simple = model_simple.fit()\n",
    "results_simple.summary()"
   ]
  },
  {
   "cell_type": "markdown",
   "metadata": {},
   "source": [
    "#### Weighted Model - Twitter"
   ]
  },
  {
   "cell_type": "code",
   "execution_count": 23,
   "metadata": {},
   "outputs": [
    {
     "data": {
      "text/html": [
       "<table class=\"simpletable\">\n",
       "<tr>\n",
       "        <td>Model:</td>               <td>GLM</td>            <td>AIC:</td>        <td>106373.7073</td>\n",
       "</tr>\n",
       "<tr>\n",
       "    <td>Link Function:</td>          <td>logit</td>           <td>BIC:</td>       <td>-965078.8772</td>\n",
       "</tr>\n",
       "<tr>\n",
       "  <td>Dependent Variable:</td>    <td>in_defense</td>    <td>Log-Likelihood:</td>    <td>-53180.</td>  \n",
       "</tr>\n",
       "<tr>\n",
       "         <td>Date:</td>        <td>2019-06-28 23:38</td>    <td>LL-Null:</td>        <td>-53600.</td>  \n",
       "</tr>\n",
       "<tr>\n",
       "   <td>No. Observations:</td>        <td>93608</td>         <td>Deviance:</td>     <td>1.0636e+05</td> \n",
       "</tr>\n",
       "<tr>\n",
       "       <td>Df Model:</td>              <td>6</td>         <td>Pearson chi2:</td>    <td>9.36e+04</td>  \n",
       "</tr>\n",
       "<tr>\n",
       "     <td>Df Residuals:</td>          <td>93601</td>          <td>Scale:</td>         <td>1.0000</td>   \n",
       "</tr>\n",
       "<tr>\n",
       "        <td>Method:</td>             <td>IRLS</td>              <td></td>               <td></td>      \n",
       "</tr>\n",
       "</table>\n",
       "<table class=\"simpletable\">\n",
       "<tr>\n",
       "                      <td></td>                       <th>Coef.</th>  <th>Std.Err.</th>     <th>z</th>     <th>P>|z|</th> <th>[0.025</th>  <th>0.975]</th> \n",
       "</tr>\n",
       "<tr>\n",
       "  <th>Intercept</th>                                 <td>1.3346</td>   <td>0.0134</td>   <td>99.6559</td> <td>0.0000</td> <td>1.3084</td>  <td>1.3609</td> \n",
       "</tr>\n",
       "<tr>\n",
       "  <th>C(age_group, Treatment('18-24'))[T.25-34]</th> <td>-0.1760</td>  <td>0.0194</td>   <td>-9.0873</td> <td>0.0000</td> <td>-0.2140</td> <td>-0.1381</td>\n",
       "</tr>\n",
       "<tr>\n",
       "  <th>C(age_group, Treatment('18-24'))[T.35-44]</th> <td>-0.2637</td>  <td>0.0241</td>  <td>-10.9555</td> <td>0.0000</td> <td>-0.3109</td> <td>-0.2166</td>\n",
       "</tr>\n",
       "<tr>\n",
       "  <th>C(age_group, Treatment('18-24'))[T.45-54]</th> <td>-0.4117</td>  <td>0.0290</td>  <td>-14.1937</td> <td>0.0000</td> <td>-0.4685</td> <td>-0.3548</td>\n",
       "</tr>\n",
       "<tr>\n",
       "  <th>C(age_group, Treatment('18-24'))[T.< 18]</th>  <td>-0.2297</td>  <td>0.0536</td>   <td>-4.2846</td> <td>0.0000</td> <td>-0.3348</td> <td>-0.1246</td>\n",
       "</tr>\n",
       "<tr>\n",
       "  <th>C(age_group, Treatment('18-24'))[T.>= 55]</th> <td>-0.4838</td>  <td>0.0363</td>  <td>-13.3444</td> <td>0.0000</td> <td>-0.5549</td> <td>-0.4128</td>\n",
       "</tr>\n",
       "<tr>\n",
       "  <th>C(gender, Treatment('female'))[T.male]</th>    <td>-0.2831</td>  <td>0.0154</td>  <td>-18.3946</td> <td>0.0000</td> <td>-0.3133</td> <td>-0.2530</td>\n",
       "</tr>\n",
       "</table>"
      ],
      "text/plain": [
       "<class 'statsmodels.iolib.summary2.Summary'>\n",
       "\"\"\"\n",
       "                            Results: Generalized linear model\n",
       "==========================================================================================\n",
       "Model:                       GLM                      AIC:                    106373.7073 \n",
       "Link Function:               logit                    BIC:                    -965078.8772\n",
       "Dependent Variable:          in_defense               Log-Likelihood:         -53180.     \n",
       "Date:                        2019-06-28 23:38         LL-Null:                -53600.     \n",
       "No. Observations:            93608                    Deviance:               1.0636e+05  \n",
       "Df Model:                    6                        Pearson chi2:           9.36e+04    \n",
       "Df Residuals:                93601                    Scale:                  1.0000      \n",
       "Method:                      IRLS                                                         \n",
       "------------------------------------------------------------------------------------------\n",
       "                                           Coef.  Std.Err.    z     P>|z|   [0.025  0.975]\n",
       "------------------------------------------------------------------------------------------\n",
       "Intercept                                  1.3346   0.0134  99.6559 0.0000  1.3084  1.3609\n",
       "C(age_group, Treatment('18-24'))[T.25-34] -0.1760   0.0194  -9.0873 0.0000 -0.2140 -0.1381\n",
       "C(age_group, Treatment('18-24'))[T.35-44] -0.2637   0.0241 -10.9555 0.0000 -0.3109 -0.2166\n",
       "C(age_group, Treatment('18-24'))[T.45-54] -0.4117   0.0290 -14.1937 0.0000 -0.4685 -0.3548\n",
       "C(age_group, Treatment('18-24'))[T.< 18]  -0.2297   0.0536  -4.2846 0.0000 -0.3348 -0.1246\n",
       "C(age_group, Treatment('18-24'))[T.>= 55] -0.4838   0.0363 -13.3444 0.0000 -0.5549 -0.4128\n",
       "C(gender, Treatment('female'))[T.male]    -0.2831   0.0154 -18.3946 0.0000 -0.3133 -0.2530\n",
       "==========================================================================================\n",
       "\n",
       "\"\"\""
      ]
     },
     "execution_count": 23,
     "metadata": {},
     "output_type": "execute_result"
    }
   ],
   "source": [
    "model_weighted = glm('in_defense ~ C(age_group, Treatment(\\'18-24\\')) + C(gender, Treatment(\\'female\\'))', \n",
    "            weighted_users, \n",
    "            freq_weights=weighted_users['weight'], \n",
    "            family=families.Binomial(families.links.logit))\n",
    "results_weighted = model_weighted.fit()\n",
    "results_weighted.summary2()"
   ]
  },
  {
   "cell_type": "markdown",
   "metadata": {},
   "source": [
    "#### Weighted Model - CEP survey"
   ]
  },
  {
   "cell_type": "code",
   "execution_count": 25,
   "metadata": {},
   "outputs": [
    {
     "data": {
      "text/plain": [
       "ACTI_8\n",
       "1.- El aborto debe estar siempre prohibido                              0.269707\n",
       "2.- El aborto sólo debe estar permitido en casos especiales             0.493850\n",
       "3.- El aborto debe ser una opción para las mujeres en cualquier caso    0.206481\n",
       "8. No sabe                                                              0.018010\n",
       "9. No contesta                                                          0.011952\n",
       "Name: pond, dtype: float64"
      ]
     },
     "execution_count": 25,
     "metadata": {},
     "output_type": "execute_result"
    }
   ],
   "source": [
    "stance_proportions = cep.groupby(['ACTI_8'])['pond'].sum()#.unstack()\n",
    "stance_proportions /= stance_proportions.sum()\n",
    "stance_proportions"
   ]
  },
  {
   "cell_type": "code",
   "execution_count": 26,
   "metadata": {},
   "outputs": [
    {
     "data": {
      "text/html": [
       "<div>\n",
       "<style scoped>\n",
       "    .dataframe tbody tr th:only-of-type {\n",
       "        vertical-align: middle;\n",
       "    }\n",
       "\n",
       "    .dataframe tbody tr th {\n",
       "        vertical-align: top;\n",
       "    }\n",
       "\n",
       "    .dataframe thead th {\n",
       "        text-align: right;\n",
       "    }\n",
       "</style>\n",
       "<table border=\"1\" class=\"dataframe\">\n",
       "  <thead>\n",
       "    <tr style=\"text-align: right;\">\n",
       "      <th>Sexo</th>\n",
       "      <th>Hombre</th>\n",
       "      <th>Mujer</th>\n",
       "    </tr>\n",
       "    <tr>\n",
       "      <th>ACTI_8</th>\n",
       "      <th></th>\n",
       "      <th></th>\n",
       "    </tr>\n",
       "  </thead>\n",
       "  <tbody>\n",
       "    <tr>\n",
       "      <th>1.- El aborto debe estar siempre prohibido</th>\n",
       "      <td>0.531018</td>\n",
       "      <td>0.468982</td>\n",
       "    </tr>\n",
       "    <tr>\n",
       "      <th>2.- El aborto sólo debe estar permitido en casos especiales</th>\n",
       "      <td>0.472209</td>\n",
       "      <td>0.527791</td>\n",
       "    </tr>\n",
       "    <tr>\n",
       "      <th>3.- El aborto debe ser una opción para las mujeres en cualquier caso</th>\n",
       "      <td>0.479115</td>\n",
       "      <td>0.520885</td>\n",
       "    </tr>\n",
       "    <tr>\n",
       "      <th>8. No sabe</th>\n",
       "      <td>0.491055</td>\n",
       "      <td>0.508945</td>\n",
       "    </tr>\n",
       "    <tr>\n",
       "      <th>9. No contesta</th>\n",
       "      <td>0.415474</td>\n",
       "      <td>0.584526</td>\n",
       "    </tr>\n",
       "  </tbody>\n",
       "</table>\n",
       "</div>"
      ],
      "text/plain": [
       "Sexo                                                  Hombre     Mujer\n",
       "ACTI_8                                                                \n",
       "1.- El aborto debe estar siempre prohibido          0.531018  0.468982\n",
       "2.- El aborto sólo debe estar permitido en caso...  0.472209  0.527791\n",
       "3.- El aborto debe ser una opción para las muje...  0.479115  0.520885\n",
       "8. No sabe                                          0.491055  0.508945\n",
       "9. No contesta                                      0.415474  0.584526"
      ]
     },
     "execution_count": 26,
     "metadata": {},
     "output_type": "execute_result"
    }
   ],
   "source": [
    "cep_gender_proportions = cep.groupby(['ACTI_8', 'Sexo'])['pond'].sum().unstack()\n",
    "cep_gender_proportions.div(cep_gender_proportions.sum(axis=1), axis=0)"
   ]
  },
  {
   "cell_type": "markdown",
   "metadata": {},
   "source": [
    "For simplicity purposes, we assumed that \"doesn't known/doesn't answer\" tends to be in defense of abortion rights:"
   ]
  },
  {
   "cell_type": "code",
   "execution_count": 27,
   "metadata": {},
   "outputs": [],
   "source": [
    "cep['in_defense'] = (~cep.ACTI_8.isin(['1.- El aborto debe estar siempre prohibido', '8. No sabe', '9. No contesta'])).astype(np.int)"
   ]
  },
  {
   "cell_type": "code",
   "execution_count": 28,
   "metadata": {},
   "outputs": [],
   "source": [
    "cep.rename(columns={'Sexo': 'gender', 'Edad_rec': 'age_group'}, inplace=True)"
   ]
  },
  {
   "cell_type": "code",
   "execution_count": 29,
   "metadata": {},
   "outputs": [],
   "source": [
    "cep.age_group.replace(' a ', '-', regex=True, inplace=True)\n",
    "cep.age_group.replace('55 años o más', '>= 55', inplace=True)\n",
    "cep.age_group.replace(' años', '', regex=True, inplace=True)\n",
    "cep.gender.replace('Mujer', 'female', inplace=True)\n",
    "cep.gender.replace('Hombre', 'male', inplace=True)"
   ]
  },
  {
   "cell_type": "code",
   "execution_count": 30,
   "metadata": {},
   "outputs": [
    {
     "data": {
      "text/html": [
       "<table class=\"simpletable\">\n",
       "<tr>\n",
       "        <td>Model:</td>               <td>GLM</td>            <td>AIC:</td>        <td>1801.2536</td>\n",
       "</tr>\n",
       "<tr>\n",
       "    <td>Link Function:</td>          <td>logit</td>           <td>BIC:</td>       <td>-8978.9438</td>\n",
       "</tr>\n",
       "<tr>\n",
       "  <td>Dependent Variable:</td>    <td>in_defense</td>    <td>Log-Likelihood:</td>   <td>-894.63</td> \n",
       "</tr>\n",
       "<tr>\n",
       "         <td>Date:</td>        <td>2019-06-28 23:38</td>    <td>LL-Null:</td>       <td>-904.27</td> \n",
       "</tr>\n",
       "<tr>\n",
       "   <td>No. Observations:</td>        <td>1481</td>          <td>Deviance:</td>      <td>1789.3</td>  \n",
       "</tr>\n",
       "<tr>\n",
       "       <td>Df Model:</td>              <td>5</td>         <td>Pearson chi2:</td>   <td>1.48e+03</td> \n",
       "</tr>\n",
       "<tr>\n",
       "     <td>Df Residuals:</td>          <td>1475</td>           <td>Scale:</td>        <td>1.0000</td>  \n",
       "</tr>\n",
       "<tr>\n",
       "        <td>Method:</td>             <td>IRLS</td>              <td></td>              <td></td>     \n",
       "</tr>\n",
       "</table>\n",
       "<table class=\"simpletable\">\n",
       "<tr>\n",
       "                      <td></td>                       <th>Coef.</th>  <th>Std.Err.</th>    <th>z</th>     <th>P>|z|</th> <th>[0.025</th>  <th>0.975]</th> \n",
       "</tr>\n",
       "<tr>\n",
       "  <th>Intercept</th>                                 <td>1.2959</td>   <td>0.1754</td>  <td>7.3881</td>  <td>0.0000</td> <td>0.9521</td>  <td>1.6396</td> \n",
       "</tr>\n",
       "<tr>\n",
       "  <th>C(gender, Treatment('female'))[T.male]</th>    <td>-0.2170</td>  <td>0.1143</td>  <td>-1.8981</td> <td>0.0577</td> <td>-0.4411</td> <td>0.0071</td> \n",
       "</tr>\n",
       "<tr>\n",
       "  <th>C(age_group, Treatment('18-24'))[T.25-34]</th> <td>-0.0635</td>  <td>0.2110</td>  <td>-0.3011</td> <td>0.7633</td> <td>-0.4771</td> <td>0.3500</td> \n",
       "</tr>\n",
       "<tr>\n",
       "  <th>C(age_group, Treatment('18-24'))[T.35-44]</th> <td>-0.3064</td>  <td>0.2113</td>  <td>-1.4499</td> <td>0.1471</td> <td>-0.7206</td> <td>0.1078</td> \n",
       "</tr>\n",
       "<tr>\n",
       "  <th>C(age_group, Treatment('18-24'))[T.45-54]</th> <td>-0.5043</td>  <td>0.2089</td>  <td>-2.4147</td> <td>0.0157</td> <td>-0.9137</td> <td>-0.0950</td>\n",
       "</tr>\n",
       "<tr>\n",
       "  <th>C(age_group, Treatment('18-24'))[T.>= 55]</th> <td>-0.5820</td>  <td>0.1934</td>  <td>-3.0101</td> <td>0.0026</td> <td>-0.9610</td> <td>-0.2030</td>\n",
       "</tr>\n",
       "</table>"
      ],
      "text/plain": [
       "<class 'statsmodels.iolib.summary2.Summary'>\n",
       "\"\"\"\n",
       "                            Results: Generalized linear model\n",
       "=========================================================================================\n",
       "Model:                        GLM                      AIC:                    1801.2536 \n",
       "Link Function:                logit                    BIC:                    -8978.9438\n",
       "Dependent Variable:           in_defense               Log-Likelihood:         -894.63   \n",
       "Date:                         2019-06-28 23:38         LL-Null:                -904.27   \n",
       "No. Observations:             1481                     Deviance:               1789.3    \n",
       "Df Model:                     5                        Pearson chi2:           1.48e+03  \n",
       "Df Residuals:                 1475                     Scale:                  1.0000    \n",
       "Method:                       IRLS                                                       \n",
       "-----------------------------------------------------------------------------------------\n",
       "                                           Coef.  Std.Err.    z    P>|z|   [0.025  0.975]\n",
       "-----------------------------------------------------------------------------------------\n",
       "Intercept                                  1.2959   0.1754  7.3881 0.0000  0.9521  1.6396\n",
       "C(gender, Treatment('female'))[T.male]    -0.2170   0.1143 -1.8981 0.0577 -0.4411  0.0071\n",
       "C(age_group, Treatment('18-24'))[T.25-34] -0.0635   0.2110 -0.3011 0.7633 -0.4771  0.3500\n",
       "C(age_group, Treatment('18-24'))[T.35-44] -0.3064   0.2113 -1.4499 0.1471 -0.7206  0.1078\n",
       "C(age_group, Treatment('18-24'))[T.45-54] -0.5043   0.2089 -2.4147 0.0157 -0.9137 -0.0950\n",
       "C(age_group, Treatment('18-24'))[T.>= 55] -0.5820   0.1934 -3.0101 0.0026 -0.9610 -0.2030\n",
       "=========================================================================================\n",
       "\n",
       "\"\"\""
      ]
     },
     "execution_count": 30,
     "metadata": {},
     "output_type": "execute_result"
    }
   ],
   "source": [
    "model_cep = glm('in_defense ~ C(gender, Treatment(\\'female\\')) + C(age_group, Treatment(\\'18-24\\'))', \n",
    "            cep, \n",
    "            freq_weights=cep['pond'], \n",
    "            family=families.Binomial(families.links.logit))\n",
    "results_cep = model_cep.fit()\n",
    "results_cep.summary2()"
   ]
  },
  {
   "cell_type": "markdown",
   "metadata": {},
   "source": [
    "### Comparing Models"
   ]
  },
  {
   "cell_type": "code",
   "execution_count": 31,
   "metadata": {},
   "outputs": [],
   "source": [
    "result_comparison = (pd.DataFrame({'CEP Survey': results_cep.params})\n",
    " .join(pd.Series(results_weighted.params, name='Twitter (Weighted)'), how='right')\n",
    " .join(pd.Series(results_simple.params, name='Twitter (Simple)'), how='right')\n",
    ")"
   ]
  },
  {
   "cell_type": "code",
   "execution_count": 32,
   "metadata": {},
   "outputs": [],
   "source": [
    "result_comparison['factor'] = ['Baseline\\n(Male, Age 18-24)', 'Age 25-34', 'Age 35-44', 'Age 45-54', 'Age < 18', 'Age >= 55', 'Female']\n",
    "result_comparison.set_index('factor', inplace=True)"
   ]
  },
  {
   "cell_type": "code",
   "execution_count": 33,
   "metadata": {},
   "outputs": [],
   "source": [
    "tabuled_results = result_comparison.loc[['Baseline\\n(Male, Age 18-24)', 'Female', 'Age < 18', 'Age 25-34', 'Age 35-44', 'Age 45-54', 'Age >= 55']]"
   ]
  },
  {
   "cell_type": "code",
   "execution_count": 34,
   "metadata": {},
   "outputs": [
    {
     "data": {
      "text/html": [
       "<div>\n",
       "<style scoped>\n",
       "    .dataframe tbody tr th:only-of-type {\n",
       "        vertical-align: middle;\n",
       "    }\n",
       "\n",
       "    .dataframe tbody tr th {\n",
       "        vertical-align: top;\n",
       "    }\n",
       "\n",
       "    .dataframe thead th {\n",
       "        text-align: right;\n",
       "    }\n",
       "</style>\n",
       "<table border=\"1\" class=\"dataframe\">\n",
       "  <thead>\n",
       "    <tr style=\"text-align: right;\">\n",
       "      <th></th>\n",
       "      <th>level_0</th>\n",
       "      <th>factor</th>\n",
       "      <th>0</th>\n",
       "    </tr>\n",
       "  </thead>\n",
       "  <tbody>\n",
       "    <tr>\n",
       "      <th>0</th>\n",
       "      <td>CEP Survey</td>\n",
       "      <td>Baseline\\n(Male, Age 18-24)</td>\n",
       "      <td>1.295867</td>\n",
       "    </tr>\n",
       "    <tr>\n",
       "      <th>1</th>\n",
       "      <td>CEP Survey</td>\n",
       "      <td>Female</td>\n",
       "      <td>-0.216993</td>\n",
       "    </tr>\n",
       "    <tr>\n",
       "      <th>2</th>\n",
       "      <td>CEP Survey</td>\n",
       "      <td>Age &lt; 18</td>\n",
       "      <td>NaN</td>\n",
       "    </tr>\n",
       "    <tr>\n",
       "      <th>3</th>\n",
       "      <td>CEP Survey</td>\n",
       "      <td>Age 25-34</td>\n",
       "      <td>-0.063531</td>\n",
       "    </tr>\n",
       "    <tr>\n",
       "      <th>4</th>\n",
       "      <td>CEP Survey</td>\n",
       "      <td>Age 35-44</td>\n",
       "      <td>-0.306396</td>\n",
       "    </tr>\n",
       "    <tr>\n",
       "      <th>5</th>\n",
       "      <td>CEP Survey</td>\n",
       "      <td>Age 45-54</td>\n",
       "      <td>-0.504313</td>\n",
       "    </tr>\n",
       "    <tr>\n",
       "      <th>6</th>\n",
       "      <td>CEP Survey</td>\n",
       "      <td>Age &gt;= 55</td>\n",
       "      <td>-0.582023</td>\n",
       "    </tr>\n",
       "    <tr>\n",
       "      <th>7</th>\n",
       "      <td>Twitter (Weighted)</td>\n",
       "      <td>Baseline\\n(Male, Age 18-24)</td>\n",
       "      <td>1.334628</td>\n",
       "    </tr>\n",
       "    <tr>\n",
       "      <th>8</th>\n",
       "      <td>Twitter (Weighted)</td>\n",
       "      <td>Female</td>\n",
       "      <td>-0.283137</td>\n",
       "    </tr>\n",
       "    <tr>\n",
       "      <th>9</th>\n",
       "      <td>Twitter (Weighted)</td>\n",
       "      <td>Age &lt; 18</td>\n",
       "      <td>-0.229730</td>\n",
       "    </tr>\n",
       "    <tr>\n",
       "      <th>10</th>\n",
       "      <td>Twitter (Weighted)</td>\n",
       "      <td>Age 25-34</td>\n",
       "      <td>-0.176033</td>\n",
       "    </tr>\n",
       "    <tr>\n",
       "      <th>11</th>\n",
       "      <td>Twitter (Weighted)</td>\n",
       "      <td>Age 35-44</td>\n",
       "      <td>-0.263746</td>\n",
       "    </tr>\n",
       "    <tr>\n",
       "      <th>12</th>\n",
       "      <td>Twitter (Weighted)</td>\n",
       "      <td>Age 45-54</td>\n",
       "      <td>-0.411651</td>\n",
       "    </tr>\n",
       "    <tr>\n",
       "      <th>13</th>\n",
       "      <td>Twitter (Weighted)</td>\n",
       "      <td>Age &gt;= 55</td>\n",
       "      <td>-0.483844</td>\n",
       "    </tr>\n",
       "    <tr>\n",
       "      <th>14</th>\n",
       "      <td>Twitter (Simple)</td>\n",
       "      <td>Baseline\\n(Male, Age 18-24)</td>\n",
       "      <td>1.333577</td>\n",
       "    </tr>\n",
       "    <tr>\n",
       "      <th>15</th>\n",
       "      <td>Twitter (Simple)</td>\n",
       "      <td>Female</td>\n",
       "      <td>-0.281221</td>\n",
       "    </tr>\n",
       "    <tr>\n",
       "      <th>16</th>\n",
       "      <td>Twitter (Simple)</td>\n",
       "      <td>Age &lt; 18</td>\n",
       "      <td>-0.229390</td>\n",
       "    </tr>\n",
       "    <tr>\n",
       "      <th>17</th>\n",
       "      <td>Twitter (Simple)</td>\n",
       "      <td>Age 25-34</td>\n",
       "      <td>-0.176261</td>\n",
       "    </tr>\n",
       "    <tr>\n",
       "      <th>18</th>\n",
       "      <td>Twitter (Simple)</td>\n",
       "      <td>Age 35-44</td>\n",
       "      <td>-0.264409</td>\n",
       "    </tr>\n",
       "    <tr>\n",
       "      <th>19</th>\n",
       "      <td>Twitter (Simple)</td>\n",
       "      <td>Age 45-54</td>\n",
       "      <td>-0.411469</td>\n",
       "    </tr>\n",
       "    <tr>\n",
       "      <th>20</th>\n",
       "      <td>Twitter (Simple)</td>\n",
       "      <td>Age &gt;= 55</td>\n",
       "      <td>-0.494832</td>\n",
       "    </tr>\n",
       "  </tbody>\n",
       "</table>\n",
       "</div>"
      ],
      "text/plain": [
       "               level_0                       factor         0\n",
       "0           CEP Survey  Baseline\\n(Male, Age 18-24)  1.295867\n",
       "1           CEP Survey                       Female -0.216993\n",
       "2           CEP Survey                     Age < 18       NaN\n",
       "3           CEP Survey                    Age 25-34 -0.063531\n",
       "4           CEP Survey                    Age 35-44 -0.306396\n",
       "5           CEP Survey                    Age 45-54 -0.504313\n",
       "6           CEP Survey                    Age >= 55 -0.582023\n",
       "7   Twitter (Weighted)  Baseline\\n(Male, Age 18-24)  1.334628\n",
       "8   Twitter (Weighted)                       Female -0.283137\n",
       "9   Twitter (Weighted)                     Age < 18 -0.229730\n",
       "10  Twitter (Weighted)                    Age 25-34 -0.176033\n",
       "11  Twitter (Weighted)                    Age 35-44 -0.263746\n",
       "12  Twitter (Weighted)                    Age 45-54 -0.411651\n",
       "13  Twitter (Weighted)                    Age >= 55 -0.483844\n",
       "14    Twitter (Simple)  Baseline\\n(Male, Age 18-24)  1.333577\n",
       "15    Twitter (Simple)                       Female -0.281221\n",
       "16    Twitter (Simple)                     Age < 18 -0.229390\n",
       "17    Twitter (Simple)                    Age 25-34 -0.176261\n",
       "18    Twitter (Simple)                    Age 35-44 -0.264409\n",
       "19    Twitter (Simple)                    Age 45-54 -0.411469\n",
       "20    Twitter (Simple)                    Age >= 55 -0.494832"
      ]
     },
     "execution_count": 34,
     "metadata": {},
     "output_type": "execute_result"
    }
   ],
   "source": [
    "tabuled_results.unstack().reset_index()"
   ]
  },
  {
   "cell_type": "code",
   "execution_count": 35,
   "metadata": {},
   "outputs": [
    {
     "data": {
      "image/png": "[encoded data removed]",
      "text/plain": [
       "<Figure size 720x432 with 1 Axes>"
      ]
     },
     "metadata": {
      "image/png": {
       "height": 377,
       "width": 675
      },
      "needs_background": "light"
     },
     "output_type": "display_data"
    }
   ],
   "source": [
    "plt.figure(figsize=(10, 6))\n",
    "sns.barplot(y='factor', x=0, hue='Data Source', data=tabuled_results.unstack().reset_index().rename(columns={'level_0': 'Data Source'}), \n",
    "            palette='plasma')\n",
    "plt.xlabel('Factor Value')\n",
    "plt.ylabel('Explanatory Variables')\n",
    "plt.axvline(x=0, linewidth=1, color='black')\n",
    "sns.despine()\n",
    "plt.legend(frameon=False, title='Data Set', fontsize=12)"
   ]
  },
  {
   "cell_type": "markdown",
   "metadata": {},
   "source": [
    "As seen on the figure, all factors have similar magnitudes and same signs in all models! Given that the Twitter population _is_ biased, one would expect otherwise. \n",
    "\n",
    "Have any questions about this work? Feel free to write us at egraells@udd.cl!"
   ]
  },
  {
   "cell_type": "code",
   "execution_count": null,
   "metadata": {},
   "outputs": [],
   "source": []
  }
 ],
 "metadata": {
  "kernelspec": {
   "display_name": "Icochan's Kernel",
   "language": "python",
   "name": "python3"
  },
  "language_info": {
   "codemirror_mode": {
    "name": "ipython",
    "version": 3
   },
   "file_extension": ".py",
   "mimetype": "text/x-python",
   "name": "python",
   "nbconvert_exporter": "python",
   "pygments_lexer": "ipython3",
   "version": "3.7.3"
  }
 },
 "nbformat": 4,
 "nbformat_minor": 2
}
